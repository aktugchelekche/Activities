{
 "cells": [
  {
   "cell_type": "code",
   "execution_count": 1,
   "metadata": {},
   "outputs": [],
   "source": [
    "pi = 3.141592653589793"
   ]
  },
  {
   "cell_type": "markdown",
   "metadata": {},
   "source": [
    "## We can use f-strings to print out numbers as strings, but sometimes the numbers are unwieldy"
   ]
  },
  {
   "cell_type": "code",
   "execution_count": 2,
   "metadata": {},
   "outputs": [
    {
     "name": "stdout",
     "output_type": "stream",
     "text": [
      "The value of pi is approximately: 3.141592653589793\n"
     ]
    }
   ],
   "source": [
    "print(f'The value of pi is approximately: {pi}')"
   ]
  },
  {
   "cell_type": "markdown",
   "metadata": {},
   "source": [
    "## We can also use f-strings to format numbers so that they are easier to read"
   ]
  },
  {
   "cell_type": "markdown",
   "metadata": {},
   "source": [
    "Inside the curly brackets, we can put a colon after the expression we want to display, and after the colon, we can specify how we want the number displayed.\n",
    "\n",
    "For float values, we use a decimal point followed by the number of decimal digits to display, and then the letter `f` for `float`"
   ]
  },
  {
   "cell_type": "code",
   "execution_count": 3,
   "metadata": {},
   "outputs": [
    {
     "name": "stdout",
     "output_type": "stream",
     "text": [
      "The value of pi to two digits is 3.14\n"
     ]
    }
   ],
   "source": [
    "print(f'The value of pi to two digits is {pi:.2f}')"
   ]
  },
  {
   "cell_type": "markdown",
   "metadata": {},
   "source": [
    "We can use a comma separator to make large numbers easier to read"
   ]
  },
  {
   "cell_type": "code",
   "execution_count": 4,
   "metadata": {},
   "outputs": [
    {
     "name": "stdout",
     "output_type": "stream",
     "text": [
      "10,000 Maniacs\n"
     ]
    }
   ],
   "source": [
    "number_of_maniacs = 10000\n",
    "\n",
    "print(f'{number_of_maniacs:,} Maniacs')"
   ]
  },
  {
   "cell_type": "markdown",
   "metadata": {},
   "source": [
    "And we can convert values to percentages"
   ]
  },
  {
   "cell_type": "code",
   "execution_count": 5,
   "metadata": {},
   "outputs": [
    {
     "name": "stdout",
     "output_type": "stream",
     "text": [
      "Two-thirds is roughly 66.7%\n"
     ]
    }
   ],
   "source": [
    "print(f'Two-thirds is roughly {2/3:.1%}')"
   ]
  },
  {
   "cell_type": "markdown",
   "metadata": {},
   "source": [
    "The squiggly bracket formatting is how f-strings got their name! The `f` is for `format`, which is a method that comes for free with all string objects. We can write a format string and then call the `format` method on a value, and it will return the formatted string"
   ]
  },
  {
   "cell_type": "code",
   "execution_count": 6,
   "metadata": {},
   "outputs": [
    {
     "data": {
      "text/plain": [
       "'3.14'"
      ]
     },
     "execution_count": 6,
     "metadata": {},
     "output_type": "execute_result"
    }
   ],
   "source": [
    "\"{:.2f}\".format(pi)"
   ]
  },
  {
   "cell_type": "code",
   "execution_count": null,
   "metadata": {},
   "outputs": [],
   "source": [
    "# more examples of number formatting \n",
    "# https://mkaz.blog/code/python-string-format-cookbook/\n",
    "# The following table shows various ways to format numbers using Python’s  \n",
    "# str.format(), including examples for both float formatting and integer formatting.\n",
    "\n",
    "# To run examples use print(\"FORMAT\".format(NUMBER));\n",
    "# So to get the output of the first example, you would run: print(\"{:.2f}\".format(3.1415926));\n",
    "\n",
    "Number\t\t  Format\t\tOutput\t\t  Description\n",
    "3.1415926\t  {:.2f}\t\t3.14\t\t    2 decimal places\n",
    "3.1415926\t  {:+.2f}\t\t+3.14\t\t    2 decimal places with sign\n",
    "-1\t\t\t    {:+.2f}\t\t-1.00\t\t    2 decimal places with sign\n",
    "2.71828\t\t  {:.0f}\t\t3\t\t\t      No decimal places\n",
    "5\t\t\t      {:0>2d}\t\t05\t\t\t    Pad number with zeros (left padding, width 2)\n",
    "5\t\t\t      {:x<4d}\t\t5xxx\t\t    Pad number with x’s (right padding, width 4)\n",
    "10\t\t  \t  {:x<4d}\t\t10xx\t\t    Pad number with x’s (right padding, width 4)\n",
    "1000000\t\t  {:,}\t\t  1,000,000\t  Number format with comma separator\n",
    "0.25\t\t    {:.2%}\t\t25.00%\t\t  Format percentage\n",
    "1000000000  {:.2e}\t1.00e+09\t  Exponent notation\n",
    "13\t\t\t    {:10d}\t  13\t\t\t    Right aligned (default, width 10)\n",
    "13\t\t\t    {:<10d}\t\t13\t\t\t    Left aligned (width 10)\n",
    "13\t\t\t    {:^10d}\t  13\t\t\t    Center aligned (width 10)"
   ]
  }
 ],
 "metadata": {
  "interpreter": {
   "hash": "473474c9169e65b209d60805b29edee9f974f09d0f254de8155ed80a2bf58016"
  },
  "kernelspec": {
   "display_name": "PythonData",
   "language": "python",
   "name": "python3"
  },
  "language_info": {
   "codemirror_mode": {
    "name": "ipython",
    "version": 3
   },
   "file_extension": ".py",
   "mimetype": "text/x-python",
   "name": "python",
   "nbconvert_exporter": "python",
   "pygments_lexer": "ipython3",
   "version": "3.8.8"
  }
 },
 "nbformat": 4,
 "nbformat_minor": 2
}
